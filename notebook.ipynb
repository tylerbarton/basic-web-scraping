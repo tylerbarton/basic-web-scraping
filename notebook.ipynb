{
 "cells": [
  {
   "cell_type": "markdown",
   "metadata": {},
   "source": [
    "# Basic Web Scraping\n",
    "This notebook demonstrates basic of web scraping using Python. Picking a generic website such as GoodReads.com, we can scrape book information - being careful not to set off any detectors."
   ]
  },
  {
   "cell_type": "markdown",
   "metadata": {},
   "source": [
    "\n",
    "## Initializing the Database\n",
    "For compatibility, we are using sqlite3 for our database. This will be sufficient to handle all the information that is collected in this short demo.\n",
    "\n",
    "The following code establishes a connection to the database. If the database is not created, it will create it for you.\n",
    "\n",
    "**Important:** It is not good practice including the username and password in plain-text / code."
   ]
  },
  {
   "cell_type": "code",
   "execution_count": 1,
   "metadata": {},
   "outputs": [
    {
     "name": "stdout",
     "output_type": "stream",
     "text": [
      "Database Created.\n"
     ]
    }
   ],
   "source": [
    "import sqlite3\n",
    "from sqlite3 import Error\n",
    "\n",
    "# Configuration\n",
    "dbName = \"GoodReads.db\"\n",
    "username = \"\"\n",
    "password = \"\"\n",
    "\n",
    "def create_db(cursor):\n",
    "    cursor.execute(\"CREATE TABLE IF NOT EXISTS Books (\"\n",
    "                        \"url TEXT, \"\n",
    "                        \"isbn TEXT, \"\n",
    "                        \"name TEXT, \"\n",
    "                        \"author TEXT, \"\n",
    "                        \"author_url TEXT,\"\n",
    "                        \"rating FLOAT, \"\n",
    "                        \"rating_count INTEGER, \"\n",
    "                        \"review_count INTEGER,\"\n",
    "                        \"image_url TEXT,\"\n",
    "                        \"related TEXT\"\n",
    "                        \")\")\n",
    "\n",
    "# Establish a connection with the database\n",
    "try:\n",
    "    username = username\n",
    "    password = password\n",
    "    connection = sqlite3.connect(dbName)\n",
    "    cursor = connection.cursor()\n",
    "    create_db(cursor)\n",
    "except Error as e:\n",
    "    print(e)\n",
    "print(\"Database Created.\")\n"
   ]
  },
  {
   "cell_type": "markdown",
   "metadata": {},
   "source": [
    "## Scraping Books\n",
    "This basic implementation of a scraper targets books exclusively. Note that it collects core book data that would be good for data analysis (such as interaction data). It also collects a list of related books that would allow us to create spider to continually scrape more and more books."
   ]
  },
  {
   "cell_type": "code",
   "execution_count": 2,
   "metadata": {},
   "outputs": [],
   "source": [
    "url = \"https://www.goodreads.com/book/show/49628.Cloud_Atlas\""
   ]
  },
  {
   "cell_type": "code",
   "execution_count": 4,
   "metadata": {},
   "outputs": [
    {
     "ename": "ModuleNotFoundError",
     "evalue": "No module named 'bs4'",
     "output_type": "error",
     "traceback": [
      "\u001b[1;31m---------------------------------------------------------------------------\u001b[0m",
      "\u001b[1;31mModuleNotFoundError\u001b[0m                       Traceback (most recent call last)",
      "\u001b[1;32m<ipython-input-4-77ac075718e7>\u001b[0m in \u001b[0;36m<module>\u001b[1;34m\u001b[0m\n\u001b[0;32m      1\u001b[0m \u001b[1;32mimport\u001b[0m \u001b[0mre\u001b[0m\u001b[1;33m\u001b[0m\u001b[1;33m\u001b[0m\u001b[0m\n\u001b[0;32m      2\u001b[0m \u001b[1;32mimport\u001b[0m \u001b[0mrequests\u001b[0m\u001b[1;33m\u001b[0m\u001b[1;33m\u001b[0m\u001b[0m\n\u001b[1;32m----> 3\u001b[1;33m \u001b[1;32mimport\u001b[0m \u001b[0mbs4\u001b[0m\u001b[1;33m\u001b[0m\u001b[1;33m\u001b[0m\u001b[0m\n\u001b[0m\u001b[0;32m      4\u001b[0m \u001b[1;32mfrom\u001b[0m \u001b[0mbs4\u001b[0m \u001b[1;32mimport\u001b[0m \u001b[0mBeautifulSoup\u001b[0m\u001b[1;33m\u001b[0m\u001b[1;33m\u001b[0m\u001b[0m\n\u001b[0;32m      5\u001b[0m \u001b[1;32mfrom\u001b[0m \u001b[0mlxml\u001b[0m \u001b[1;32mimport\u001b[0m \u001b[0mhtml\u001b[0m\u001b[1;33m\u001b[0m\u001b[1;33m\u001b[0m\u001b[0m\n",
      "\u001b[1;31mModuleNotFoundError\u001b[0m: No module named 'bs4'"
     ]
    }
   ],
   "source": [
    "import re\n",
    "import requests\n",
    "from bs4 import BeautifulSoup\n",
    "from lxml import html\n",
    "\n",
    "# Main url parsing\n",
    "page = requests.get(url)\n",
    "soup = BeautifulSoup(page.content, \"html.parser\")\n",
    "response = html.fromstring(page.content)\n",
    "item = {}\n",
    "try:\n",
    "    # URL data\n",
    "    item['url'] = url\n",
    "    item['id'] = re.search(pattern=\"\\d+\", string=item['url']).group(0)\n",
    "    item['image_url'] = soup.find(id=\"coverImage\")['src']\n",
    "\n",
    "    # Identifying Information\n",
    "    item['name'] = soup.find(id=\"bookTitle\").text\n",
    "    item['isbn'] = soup.find(itemprop=\"isbn\").text\n",
    "    item['author'] = soup.find(id=\"bookAuthors\").find(itemprop=\"name\").text\n",
    "    item['author_url'] = soup.find(class_=\"authorName\", href=True)['href']\n",
    "\n",
    "    # Interaction\n",
    "    item['rating'] = soup.find(itemprop=\"ratingValue\").text\n",
    "    item['rating_count'] = soup.find(itemprop=\"ratingCount\").text\n",
    "    item['review_count'] = soup.find(itemprop=\"reviewCount\").text\n",
    "\n",
    "    # Get related urls to scrap later\n",
    "    links = []\n",
    "    related = soup.find(class_=\"carouselRow\")\n",
    "    related_a = related.find_all('a', href=True)\n",
    "    for r in related_a:\n",
    "        if r is not None:\n",
    "            links.append(r['href'])\n",
    "    item['related'] = links\n",
    "except AttributeError as e:\n",
    "    print(e)\n",
    "\n",
    "# Clean up the data\n",
    "item['name'] = str(item['name']).strip()\n",
    "item['rating'] = re.search(pattern=\"\\d.?\\d*\", string=item['rating']).group(0)\n",
    "item['rating_count'] = \"\".join(re.search(pattern=\"(\\d*),*(\\d+)\", string=item['rating_count']).group(1, 2))\n",
    "item['review_count'] = \"\".join(re.search(pattern=\"(\\d*),*(\\d+)\", string=item['review_count']).group(1, 2))\n",
    "\n",
    "print(item)"
   ]
  },
  {
   "cell_type": "markdown",
   "metadata": {},
   "source": [
    "# Adding Books to the Database\n",
    "Once the information is obtained from the website, we can add it to database. \n",
    "\n",
    "**Important**: Connect to the database must be established before insertion of data"
   ]
  },
  {
   "cell_type": "code",
   "execution_count": null,
   "metadata": {},
   "outputs": [],
   "source": [
    "# Add the scraped data to the database -- database must be open\n",
    "sql = '''INSERT INTO Books VALUES(?,?,?,?,?,\n",
    "                                  ?,?,?,?,?)'''\n",
    "cursor.execute(sql, (item[\"url\"],\n",
    "                          item[\"isbn\"],\n",
    "                          item[\"name\"],\n",
    "                          item[\"author\"],\n",
    "                          item[\"author_url\"],\n",
    "\n",
    "                          float(item[\"rating\"]),\n",
    "                          int(item[\"rating_count\"]),\n",
    "                          int(item[\"review_count\"]),\n",
    "                          item[\"image_url\"],\n",
    "                          str(item[\"related\"])))\n",
    "\n",
    "connection.commit()\n",
    "print(\"Book successfully added\")"
   ]
  },
  {
   "cell_type": "markdown",
   "metadata": {},
   "source": [
    "Check that the book was successfully added by querying the last row of the table."
   ]
  },
  {
   "cell_type": "code",
   "execution_count": null,
   "metadata": {},
   "outputs": [],
   "source": [
    "# Check the last book in the database using a query\n",
    "query = \"SELECT * FROM Books WHERE ROWID IN ( SELECT max( ROWID ) FROM Books );\"\n",
    "print(cursor.execute(query).fetchone())"
   ]
  }
 ],
 "metadata": {
  "kernelspec": {
   "display_name": "PyCharm (ContentStylizer)",
   "language": "python",
   "name": "pycharm-a8cda922"
  },
  "language_info": {
   "codemirror_mode": {
    "name": "ipython",
    "version": 3
   },
   "file_extension": ".py",
   "mimetype": "text/x-python",
   "name": "python",
   "nbconvert_exporter": "python",
   "pygments_lexer": "ipython3",
   "version": "3.6.8"
  },
  "orig_nbformat": 4
 },
 "nbformat": 4,
 "nbformat_minor": 2
}
